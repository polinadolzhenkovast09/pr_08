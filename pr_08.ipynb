{
  "cells": [
    {
      "cell_type": "markdown",
      "id": "fQSpwlIXNuVp",
      "metadata": {
        "id": "fQSpwlIXNuVp"
      },
      "source": [
        "# Вариант 10"
      ]
    },
    {
      "cell_type": "code",
      "execution_count": 6,
      "id": "F64LnqyFJcTo",
      "metadata": {
        "id": "F64LnqyFJcTo"
      },
      "outputs": [],
      "source": [
        "# @title Вспомогательные Функции (Часть Базового Кода)\n",
        "# Убедитесь, что эта ячейка выполняется ПЕРЕД запуском кода варианта\n",
        "\n",
        "# ... (здесь должны быть определения connect_db, close_db, execute_sql, load_df_from_sql и т.д.)\n",
        "\n",
        "def execute_sql(sql_query, fetch=False):\n",
        "    \"\"\"Выполняет SQL-запрос и опционально возвращает результаты.\"\"\"\n",
        "    if not connection or not cursor:\n",
        "        print(\"Нет подключения к БД.\")\n",
        "        return None\n",
        "    try:\n",
        "        # print(f\"Выполнение SQL: {sql_query[:100]}...\") # Отладка: показать начало запроса\n",
        "        cursor.execute(sql_query)\n",
        "        if fetch:\n",
        "            results = cursor.fetchall()\n",
        "            # print(\"Результаты получены.\") # Отладка\n",
        "            return results\n",
        "        else:\n",
        "            # Для запросов не SELECT (CREATE, DROP, INSERT, UPDATE, DELETE)\n",
        "            # connection.commit() # Не требуется при autocommit=True\n",
        "            # print(\"Запрос успешно выполнен (без fetch).\") # Отладка\n",
        "            return True # Возвращаем True для индикации успеха выполнения не-SELECT запроса\n",
        "    except (Exception, Error) as error:\n",
        "        print(f\"Ошибка выполнения SQL: {error}\")\n",
        "        # connection.rollback() # Не требуется при autocommit=True\n",
        "        return None # Возвращаем None для индикации ошибки\n",
        "\n",
        "# --- Функция создания таблицы ---\n",
        "def create_table(tbl_name):\n",
        "    \"\"\"Создает стандартную таблицу для данных продаж, удаляя ее, если она существует.\"\"\"\n",
        "    print(f\"\\nПопытка создать таблицу: {tbl_name}\")\n",
        "    # Шаг 1: Удалить таблицу, если она уже существует\n",
        "    # Это важно для повторяемости: гарантирует, что мы начинаем с чистого листа\n",
        "    # и не получим ошибку \"table already exists\".\n",
        "    drop_success = execute_sql(f\"DROP TABLE IF EXISTS {tbl_name};\")\n",
        "    if drop_success is None: # Проверяем, не было ли ошибки при DROP\n",
        "        print(f\"Не удалось выполнить DROP TABLE для {tbl_name}. Создание таблицы отменено.\")\n",
        "        return # Прерываем создание, если DROP не удался\n",
        "\n",
        "    # Шаг 2: Определить SQL-запрос для создания таблицы\n",
        "    # Структура таблицы (колонки и типы данных) соответствует анализу\n",
        "    # из исходной практической работы. Имя таблицы берется из аргумента tbl_name.\n",
        "    create_query = f\"\"\"\n",
        "    CREATE TABLE {tbl_name} (\n",
        "        id INTEGER PRIMARY KEY,         -- Уникальный идентификатор, первичный ключ\n",
        "        quantity INTEGER,               -- Количество\n",
        "        cost NUMERIC(10, 2),            -- Стоимость (NUMERIC для точности)\n",
        "        total_revenue NUMERIC(12, 2)    -- Общая выручка (NUMERIC для точности)\n",
        "    );\n",
        "    \"\"\"\n",
        "    print(f\"Запрос на создание таблицы {tbl_name}:\\n{create_query}\")\n",
        "\n",
        "    # Шаг 3: Выполнить SQL-запрос на создание таблицы\n",
        "    create_success = execute_sql(create_query)\n",
        "    if create_success:\n",
        "        print(f\"Таблица '{tbl_name}' успешно создана.\")\n",
        "    else:\n",
        "        print(f\"Не удалось создать таблицу '{tbl_name}'.\")\n",
        "\n",
        "# ... (здесь определения load_via_pandas, load_via_copy_file, load_via_copy_stringio и т.д.)"
      ]
    },
    {
      "cell_type": "code",
      "execution_count": 7,
      "id": "JEn2AkOTMNUJ",
      "metadata": {
        "colab": {
          "base_uri": "https://localhost:8080/"
        },
        "id": "JEn2AkOTMNUJ",
        "outputId": "f0d95bd5-3a51-4e1b-ed1f-555cb36c9b09"
      },
      "outputs": [
        {
          "name": "stdout",
          "output_type": "stream",
          "text": [
            "Вспомогательные функции определены.\n"
          ]
        }
      ],
      "source": [
        "# @title Вспомогательные Функции (Часть Базового Кода - УБЕДИТЕСЬ, ЧТО ЭТА ЯЧЕЙКА ВЫПОЛНЕНА!)\n",
        "\n",
        "# ... (импорты, константы, connect_db, close_db, execute_sql, load_df_from_sql, create_table) ...\n",
        "\n",
        "# --- Функции Загрузки Данных ---\n",
        "\n",
        "def load_via_copy_stringio(df, tbl_name):\n",
        "    \"\"\"Загружает данные из DataFrame через StringIO, используя copy_expert.\"\"\"\n",
        "    # Проверка подключения и наличия данных\n",
        "    if not connection or not cursor or df is None:\n",
        "        print(\"Нет подключения к БД или DataFrame пуст.\")\n",
        "        return False # Возвращаем False при неудаче\n",
        "    print(f\"Загрузка данных в '{tbl_name}' с использованием copy_expert (StringIO)...\")\n",
        "    start_time = time.time()\n",
        "    buffer = io.StringIO() # Создаем буфер в памяти\n",
        "    # Записываем DataFrame в буфер как CSV, включая заголовок\n",
        "    try:\n",
        "        df.to_csv(buffer, index=False, header=True, sep=',')\n",
        "    except Exception as e:\n",
        "         print(f\"Ошибка конвертации DataFrame в CSV: {e}\")\n",
        "         buffer.close() # Закрываем буфер при ошибке\n",
        "         return False # Возвращаем False при неудаче\n",
        "    buffer.seek(0) # Перематываем буфер в начало для чтения\n",
        "    # Формируем SQL команду COPY\n",
        "    sql_copy = f\"COPY {tbl_name} FROM STDIN WITH (FORMAT CSV, HEADER TRUE, DELIMITER ',')\"\n",
        "    try:\n",
        "        # Выполняем COPY, передавая буфер как файл\n",
        "        cursor.copy_expert(sql=sql_copy, file=buffer)\n",
        "        # connection.commit() # Не требуется при autocommit=True\n",
        "        duration = time.time() - start_time\n",
        "        print(f\"Успешно: Загрузка (StringIO) в '{tbl_name}' завершена за {duration:.2f} сек.\")\n",
        "        return True # Возвращаем True при успехе\n",
        "    except (Exception, Error) as error:\n",
        "        print(f\"ОШИБКА при выполнении copy_expert (StringIO) для '{tbl_name}': {error}\")\n",
        "        # connection.rollback() # Не требуется при autocommit=True\n",
        "        return False # Возвращаем False при неудаче\n",
        "    finally:\n",
        "        buffer.close() # Гарантируем закрытие буфера в любом случае\n",
        "\n",
        "def load_via_copy_file(file_path, tbl_name):\n",
        "    \"\"\"Загружает данные напрямую из CSV файла, используя copy_expert.\"\"\"\n",
        "    # Проверка подключения\n",
        "    if not connection or not cursor:\n",
        "       print(\"Нет подключения к БД.\")\n",
        "       return False # Возвращаем False при неудаче\n",
        "    # Проверка существования файла\n",
        "    if not os.path.exists(file_path):\n",
        "        print(f\"ОШИБКА: Файл '{file_path}' не найден.\")\n",
        "        return False # Возвращаем False при неудаче\n",
        "    print(f\"Загрузка данных в '{tbl_name}' с использованием copy_expert (file: {os.path.basename(file_path)})...\")\n",
        "    start_time = time.time()\n",
        "    # Формируем SQL команду COPY\n",
        "    sql_copy = f\"COPY {tbl_name} FROM STDIN WITH (FORMAT CSV, HEADER TRUE, DELIMITER ',')\"\n",
        "    try:\n",
        "        # Открываем файл для чтения и передаем его дескриптор в copy_expert\n",
        "        with open(file_path, 'r', encoding='utf-8') as f:\n",
        "            cursor.copy_expert(sql=sql_copy, file=f)\n",
        "        # connection.commit() # Не требуется при autocommit=True\n",
        "        duration = time.time() - start_time\n",
        "        print(f\"Успешно: Загрузка (file) в '{tbl_name}' завершена за {duration:.2f} сек.\")\n",
        "        return True # Возвращаем True при успехе\n",
        "    except (Exception, Error) as error:\n",
        "        print(f\"ОШИБКА при выполнении copy_expert (file) для '{tbl_name}': {error}\")\n",
        "        # connection.rollback() # Не требуется при autocommit=True\n",
        "        return False # Возвращаем False при неудаче\n",
        "\n",
        "# ... (другие вспомогательные функции, если есть) ...\n",
        "\n",
        "print(\"Вспомогательные функции определены.\")"
      ]
    },
    {
      "cell_type": "code",
      "execution_count": 8,
      "id": "cOqWCX-wN18J",
      "metadata": {
        "colab": {
          "base_uri": "https://localhost:8080/"
        },
        "id": "cOqWCX-wN18J",
        "outputId": "7b711e45-0f20-4518-bd26-2bf047acf365"
      },
      "outputs": [
        {
          "name": "stdout",
          "output_type": "stream",
          "text": [
            "Вспомогательные функции определены.\n"
          ]
        }
      ],
      "source": [
        "# @title Вспомогательные Функции (Часть Базового Кода - УБЕДИТЕСЬ, ЧТО ЭТА ЯЧЕЙКА ВЫПОЛНЕНА!)\n",
        "\n",
        "# ... (импорты, константы, connect_db, close_db, execute_sql, create_table, ...) ...\n",
        "\n",
        "# --- Функция загрузки данных из SQL в DataFrame ---\n",
        "def load_df_from_sql(sql_query):\n",
        "    \"\"\"Выполняет SQL-запрос и загружает результаты в Pandas DataFrame.\"\"\"\n",
        "    # Проверяем наличие активного подключения\n",
        "    if not connection: # Для read_sql_query достаточно объекта connection\n",
        "        print(\"Нет подключения к БД для загрузки DataFrame.\")\n",
        "        return None # Возвращаем None при ошибке\n",
        "    print(f\"Загрузка данных из SQL в DataFrame: {sql_query[:100]}...\") # Показываем начало запроса\n",
        "    try:\n",
        "        # Используем pandas.read_sql_query для выполнения запроса и создания DataFrame\n",
        "        # Эта функция сама управляет курсором и соединением для чтения\n",
        "        df = pd.read_sql_query(sql_query, connection)\n",
        "        print(f\"Успешно: Загружено {len(df)} строк в DataFrame.\")\n",
        "        return df # Возвращаем созданный DataFrame\n",
        "    except (Exception, Error) as error:\n",
        "        # Обрабатываем ошибки при выполнении запроса или создании DataFrame\n",
        "        print(f\"ОШИБКА при загрузке DataFrame из SQL: {error}\")\n",
        "        return None # Возвращаем None при ошибке\n",
        "\n",
        "# ... (определения load_via_copy_stringio, load_via_copy_file и другие функции) ...\n",
        "\n",
        "print(\"Вспомогательные функции определены.\")"
      ]
    },
    {
      "cell_type": "markdown",
      "id": "3MxeBpptHr0K",
      "metadata": {
        "id": "3MxeBpptHr0K"
      },
      "source": []
    },
    {
      "cell_type": "code",
      "execution_count": 19,
      "id": "eeTunLBDICip",
      "metadata": {
        "colab": {
          "base_uri": "https://localhost:8080/",
          "height": 1000
        },
        "id": "eeTunLBDICip",
        "outputId": "fea9367d-f571-4483-efd9-fdc19336089a"
      },
      "outputs": [],
      "source": [
        "import psycopg2\n",
        "import pandas as pd\n",
        "import matplotlib.pyplot as plt\n",
        "import os\n",
        "from io import StringIO\n",
        "\n",
        "# --- Константы для подключения к PostgreSQL ---\n",
        "DB_USER = \"postgres\"\n",
        "DB_PASSWORD = \"1\"\n",
        "DB_HOST = \"localhost\"\n",
        "DB_PORT = \"5432\"\n",
        "DB_NAME = \"Pr_08\"       \n",
        "\n",
        "# --- Константы для этого варианта ---\n",
        "small_table_name = 'sales_small'\n",
        "big_table_name = 'sales_big'\n",
        "small_csv_path = r'C:\\Users\\coco4\\Downloads\\upload_test_data.csv' \n",
        "big_csv_path = r'C:\\Users\\coco4\\Downloads\\upload_test_data_big.csv'\n",
        "   \n"
      ]
    },
    {
      "cell_type": "code",
      "execution_count": 20,
      "id": "edbdc342",
      "metadata": {},
      "outputs": [
        {
          "name": "stdout",
          "output_type": "stream",
          "text": [
            "Успешное подключение к PostgreSQL\n"
          ]
        }
      ],
      "source": [
        "\n",
        "# Функция для подключения к БД\n",
        "def connect_db():\n",
        "    try:\n",
        "        connection = psycopg2.connect(\n",
        "            dbname=DB_NAME,\n",
        "            user=DB_USER,\n",
        "            password=DB_PASSWORD,\n",
        "            host=DB_HOST,\n",
        "            port=DB_PORT\n",
        "        )\n",
        "        cursor = connection.cursor()\n",
        "        print(\"Успешное подключение к PostgreSQL\")\n",
        "        return connection, cursor\n",
        "    except Exception as e:\n",
        "        print(f\"Ошибка подключения к PostgreSQL: {e}\")\n",
        "        return None, None\n",
        "\n",
        "# Функция для создания таблицы\n",
        "def create_table(table_name):\n",
        "    try:\n",
        "        cursor.execute(f\"\"\"\n",
        "        CREATE TABLE {table_name} (\n",
        "            id INTEGER PRIMARY KEY,\n",
        "            quantity INTEGER,\n",
        "            cost NUMERIC(10, 2),\n",
        "            total_revenue NUMERIC(12, 2)\n",
        "        );\n",
        "        \"\"\")\n",
        "        connection.commit()\n",
        "        print(f\"Таблица {table_name} успешно создана или уже существует\")\n",
        "    except Exception as e:\n",
        "        print(f\"Ошибка при создании таблицы {table_name}: {e}\")\n",
        "\n",
        "# Функция для загрузки данных из файла\n",
        "def load_via_copy_file(file_path, table_name):\n",
        "    try:\n",
        "        with open(file_path, 'r') as f:\n",
        "            cursor.copy_expert(f\"\"\"\n",
        "            COPY {table_name}(id, quantity, cost, total_revenue) \n",
        "            FROM STDIN WITH CSV HEADER DELIMITER ','\n",
        "            \"\"\", f)\n",
        "        connection.commit()\n",
        "        print(f\"Данные из {file_path} успешно загружены в {table_name}\")\n",
        "    except Exception as e:\n",
        "        print(f\"Ошибка при загрузке данных в {table_name}: {e}\")\n",
        "\n",
        "# Функция для выполнения SQL запросов\n",
        "def execute_sql(query, fetch=False):\n",
        "    try:\n",
        "        cursor.execute(query)\n",
        "        connection.commit()\n",
        "        if fetch:\n",
        "            return cursor.fetchall()\n",
        "        return True\n",
        "    except Exception as e:\n",
        "        print(f\"Ошибка выполнения SQL запроса: {e}\")\n",
        "        return None\n",
        "\n",
        "# Функция для загрузки данных в DataFrame\n",
        "def load_df_from_sql(query):\n",
        "    try:\n",
        "        return pd.read_sql(query, connection)\n",
        "    except Exception as e:\n",
        "        print(f\"Ошибка загрузки данных в DataFrame: {e}\")\n",
        "        return None\n",
        "\n",
        "\n",
        "connection, cursor = connect_db()\n"
      ]
    },
    {
      "cell_type": "code",
      "execution_count": 21,
      "id": "99dab150",
      "metadata": {},
      "outputs": [
        {
          "name": "stdout",
          "output_type": "stream",
          "text": [
            "--- Запуск Варианта 10 (Упрощенная загрузка) ---\n"
          ]
        }
      ],
      "source": [
        "if not connection or not cursor:\n",
        "    print(\"Подключение к базе данных неактивно. Пожалуйста, проверьте параметры подключения.\")\n",
        "else:\n",
        "    print(\"--- Запуск Варианта 10 (Упрощенная загрузка) ---\")"
      ]
    },
    {
      "cell_type": "code",
      "execution_count": 12,
      "id": "d0dc1263",
      "metadata": {},
      "outputs": [
        {
          "name": "stdout",
          "output_type": "stream",
          "text": [
            "\n",
            "--- Задача 1: Создание таблиц ---\n",
            "Таблица sales_small успешно создана или уже существует\n",
            "Таблица sales_big успешно создана или уже существует\n"
          ]
        }
      ],
      "source": [
        "  # --- Задача 1: Настройка таблиц ---\n",
        "print(\"\\n--- Задача 1: Создание таблиц ---\")\n",
        "create_table(small_table_name)\n",
        "create_table(big_table_name)"
      ]
    },
    {
      "cell_type": "code",
      "execution_count": 32,
      "id": "a6937644",
      "metadata": {},
      "outputs": [
        {
          "name": "stdout",
          "output_type": "stream",
          "text": [
            "Данные успешно загружены в таблицу 'sales_small'!\n"
          ]
        }
      ],
      "source": [
        "import pandas as pd\n",
        "from sqlalchemy import create_engine\n",
        "\n",
        "# 1. Загрузка данных из CSV-файла\n",
        "csv_file_path = r'C:\\Users\\coco4\\Downloads\\upload_test_data.csv'   # Путь к вашему CSV-файлу\n",
        "df = pd.read_csv(csv_file_path)\n",
        "# 2. Создание подключения к базе данных PostgreSQL\n",
        "# Замените значения на ваши параметры подключения\n",
        "username = 'postgres'\n",
        "password = '1'\n",
        "host = 'localhost'  # или IP-адрес сервера\n",
        "port = '5432'       # порт PostgreSQL (по умолчанию 5432)\n",
        "database = 'Pr_08'\n",
        "\n",
        "# Создание строки подключения\n",
        "connection_string = f'postgresql+psycopg2://{username}:{password}@{host}:{port}/{database}'\n",
        "engine = create_engine(connection_string)\n",
        "\n",
        "# 3. Загрузка данных в таблицу PostgreSQL\n",
        "table_name = 'sales_small'  # Имя таблицы в PostgreSQL\n",
        "df.to_sql(table_name, engine, if_exists='replace', index=False)\n",
        "\n",
        "print(f\"Данные успешно загружены в таблицу '{table_name}'!\")"
      ]
    },
    {
      "cell_type": "code",
      "execution_count": 24,
      "id": "3ad2a3ea",
      "metadata": {},
      "outputs": [
        {
          "name": "stdout",
          "output_type": "stream",
          "text": [
            "\n",
            "--- Задача 3: Загрузка данных из 'C:\\Users\\coco4\\Downloads\\upload_test_data_big.csv' в 'sales_big' (метод file) ---\n",
            "Данные из C:\\Users\\coco4\\Downloads\\upload_test_data_big.csv успешно загружены в sales_big\n"
          ]
        }
      ],
      "source": [
        "    # --- Задача 3: Загрузка больших данных ---\n",
        "print(f\"\\n--- Задача 3: Загрузка данных из '{big_csv_path}' в '{big_table_name}' (метод file) ---\")\n",
        "if os.path.exists(big_csv_path):\n",
        "    load_via_copy_file(big_csv_path, big_table_name)\n",
        "else:\n",
        "    print(f\"ОШИБКА: Файл '{big_csv_path}' не найден. Загрузка не выполнена.\")"
      ]
    },
    {
      "cell_type": "code",
      "execution_count": 35,
      "id": "394428a9",
      "metadata": {},
      "outputs": [
        {
          "name": "stdout",
          "output_type": "stream",
          "text": [
            "\n",
            "--- Задача 4: SQL Анализ таблицы sales_small ---\n",
            "Выполнение SQL запроса:\n",
            "\n",
            "    SELECT id\n",
            "    FROM sales_small\n",
            "    WHERE total_revenue < 0.1;\n",
            "    \n",
            "\n",
            "Результаты запроса (id, total_revenue):\n",
            "(58,)\n",
            "(300,)\n"
          ]
        }
      ],
      "source": [
        "print(\"\\n--- Задача 4: SQL Анализ таблицы sales_small ---\")\n",
        "sql_query_task4 = f\"\"\"\n",
        "    SELECT id\n",
        "    FROM sales_small\n",
        "    WHERE total_revenue < 0.1;\n",
        "    \"\"\"\n",
        "print(\"Выполнение SQL запроса:\")\n",
        "print(sql_query_task4)\n",
        "results_task4 = execute_sql(sql_query_task4, fetch=True)\n",
        "\n",
        "if results_task4 is not None:\n",
        "        print(\"\\nРезультаты запроса (id, total_revenue):\")\n",
        "        if results_task4:\n",
        "            for row in results_task4:\n",
        "                print(row)\n",
        "        else:\n",
        "            print(\"Запрос успешно выполнен, но не вернул строк.\")\n",
        "else:\n",
        "        print(\"Ошибка выполнения SQL запроса.\")"
      ]
    },
    {
      "cell_type": "code",
      "execution_count": 37,
      "id": "c610dbe6",
      "metadata": {},
      "outputs": [
        {
          "name": "stderr",
          "output_type": "stream",
          "text": [
            "C:\\Users\\coco4\\AppData\\Local\\Temp\\ipykernel_10100\\3463539476.py:15: UserWarning: pandas only supports SQLAlchemy connectable (engine/connection) or database string URI or sqlite3 DBAPI2 connection. Other DBAPI2 objects are not tested. Please consider using SQLAlchemy.\n",
            "  data = pd.read_sql_query(query, connection)\n"
          ]
        },
        {
          "name": "stdout",
          "output_type": "stream",
          "text": [
            "Соединение с базой данных закрыто.\n"
          ]
        },
        {
          "data": {
            "image/png": "[encoded data removed]",
            "text/plain": [
              "<Figure size 1000x600 with 1 Axes>"
            ]
          },
          "metadata": {},
          "output_type": "display_data"
        }
      ],
      "source": [
        " # --- Задача 5: Python Визуализация ---\n",
        "import psycopg2  # Для подключения к PostgreSQL\n",
        "import pandas as pd  # Для работы с данными\n",
        "import matplotlib.pyplot as plt  # Для построения графиков\n",
        "\n",
        "# Шаг 1: Подключение к базе данных PostgreSQL\n",
        "try:\n",
        "   \n",
        "    query = \"\"\"\n",
        "    SELECT quantity, cost\n",
        "    FROM sales_big\n",
        "    ORDER BY RANDOM()  -- Случайная сортировка\n",
        "    LIMIT 100;         -- Ограничение до 100 записей\n",
        "    \"\"\"\n",
        "    data = pd.read_sql_query(query, connection)\n",
        "\n",
        "except Exception as e:\n",
        "    print(f\"Ошибка подключения или выполнения запроса: {e}\")\n",
        "finally:\n",
        "    if connection:\n",
        "        connection.close()\n",
        "        print(\"Соединение с базой данных закрыто.\")\n",
        "\n",
        "# Шаг 3: Построение scatter plot\n",
        "plt.figure(figsize=(10, 6))  # Размер графика\n",
        "plt.scatter(data['quantity'], data['cost'], color='blue', alpha=0.7)  # Scatter plot\n",
        "plt.title('Scatter Plot: Quantity vs Cost')  # Заголовок\n",
        "plt.xlabel('Quantity')  # Подпись оси X\n",
        "plt.ylabel('Cost')  # Подпись оси Y\n",
        "plt.grid(True)  # Добавление сетки\n",
        "plt.show()  # Отображение графика"
      ]
    }
  ],
  "metadata": {
    "colab": {
      "provenance": []
    },
    "kernelspec": {
      "display_name": "Python 3",
      "language": "python",
      "name": "python3"
    },
    "language_info": {
      "codemirror_mode": {
        "name": "ipython",
        "version": 3
      },
      "file_extension": ".py",
      "mimetype": "text/x-python",
      "name": "python",
      "nbconvert_exporter": "python",
      "pygments_lexer": "ipython3",
      "version": "3.11.9"
    }
  },
  "nbformat": 4,
  "nbformat_minor": 5
}
